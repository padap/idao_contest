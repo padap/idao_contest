{
 "cells": [
  {
   "cell_type": "markdown",
   "metadata": {},
   "source": [
    "ПЛАН:\n",
    " - Отослать посылку по задаче С\n",
    "     - Посмотреть на сколько сложно работать со скоростью\n",
    " - Добавить признаков\n",
    "    (каких?)\n",
    "    - Точка пересечения траектории частицы с линией ускоритель \n",
    "        Или расстояние от прямой траектории до прямой ускоритель\n",
    "    - Апроксимация траектории параболой (есть две точки) -> ускорение частицы\n",
    "    - Там есть ошибка MatchedHit_D{X,Y,Z}[N], значит для угла и ошибки от траетории можно построить оценку сверху и \n",
    "        оценку снизу\n",
    "    - Скорости "
   ]
  },
  {
   "cell_type": "code",
   "execution_count": 1,
   "metadata": {},
   "outputs": [],
   "source": [
    "import scoring\n",
    "\n",
    "import pandas as pd\n",
    "import numpy as np\n",
    "\n",
    "from sklearn.model_selection import train_test_split\n",
    "from sklearn.pipeline import Pipeline\n",
    "# from matplotlib import pyplot as plt\n",
    "# %matplotlib inline"
   ]
  },
  {
   "cell_type": "code",
   "execution_count": 2,
   "metadata": {},
   "outputs": [],
   "source": [
    "# del scoring"
   ]
  },
  {
   "cell_type": "code",
   "execution_count": 3,
   "metadata": {},
   "outputs": [],
   "source": [
    "from xgboost import XGBClassifier"
   ]
  },
  {
   "cell_type": "markdown",
   "metadata": {},
   "source": [
    "Путь к выборке"
   ]
  },
  {
   "cell_type": "code",
   "execution_count": 4,
   "metadata": {},
   "outputs": [],
   "source": [
    "path = '../data/'"
   ]
  },
  {
   "cell_type": "code",
   "execution_count": 5,
   "metadata": {},
   "outputs": [
    {
     "name": "stdout",
     "output_type": "stream",
     "text": [
      "CPU times: user 1min 38s, sys: 7.17 s, total: 1min 45s\n",
      "Wall time: 1min 46s\n"
     ]
    }
   ],
   "source": [
    "%%time\n",
    "df_train = pd.read_csv(path+'train_v2_merged.csv')\n",
    "df_test  = pd.read_csv(path+'test_public_v2.csv')"
   ]
  },
  {
   "cell_type": "markdown",
   "metadata": {},
   "source": [
    "Разделим на train и validation"
   ]
  },
  {
   "cell_type": "code",
   "execution_count": 6,
   "metadata": {},
   "outputs": [
    {
     "name": "stdout",
     "output_type": "stream",
     "text": [
      "CPU times: user 6.93 s, sys: 753 ms, total: 7.68 s\n",
      "Wall time: 7.68 s\n"
     ]
    }
   ],
   "source": [
    "%%time\n",
    "df_train_part, df_validation = train_test_split(df_train, test_size=0.25, shuffle=True, random_state = 42)"
   ]
  },
  {
   "cell_type": "code",
   "execution_count": 7,
   "metadata": {},
   "outputs": [],
   "source": [
    "def calculate_angle(df):\n",
    "    \"\"\" \n",
    "        params: \n",
    "            df - df with keys MatchedHit_{X, Y, Z}[{0,1 , 2}]\n",
    "        return \n",
    "            np.array\n",
    "    \"\"\"\n",
    "    x1 = (df['MatchedHit_X[1]'] - df['MatchedHit_X[0]'],\\\n",
    "          df['MatchedHit_Y[1]'] - df['MatchedHit_Y[0]'],\\\n",
    "          df['MatchedHit_Z[1]'] - df['MatchedHit_Z[0]'])\n",
    "\n",
    "    x2 = (df['MatchedHit_X[2]'] - df['MatchedHit_X[1]'],\\\n",
    "          df['MatchedHit_Y[2]'] - df['MatchedHit_Y[1]'],\\\n",
    "          df['MatchedHit_Z[2]'] - df['MatchedHit_Z[1]'])\n",
    "\n",
    "    scalar12 = np.sum([i*j for i,j in zip(x1, x2)], axis = 0)\n",
    "    scalar11 = np.sum([i**2 for i in x1], axis = 0)\n",
    "    scalar22 = np.sum([i**2 for i in x2], axis = 0)\n",
    "\n",
    "    return np.arccos(scalar12/np.sqrt(scalar11*scalar22))*180/np.pi\n",
    "\n",
    "\n",
    "def calc_ind_closure(ind, start_ind=0):\n",
    "    def calculate_angle_ind(df):\n",
    "        \"\"\" \n",
    "            params: \n",
    "                df - df with keys MatchedHit_{X, Y, Z}[{0,1 , 2}]\n",
    "            return \n",
    "                np.array\n",
    "        \"\"\"\n",
    "        i0 = start_ind\n",
    "        i1 = start_ind + 1\n",
    "        i2 = start_ind + 2\n",
    "        x1 = (df['MatchedHit_X[%i]' % i1] - df['MatchedHit_X[%i]' % i0],\\\n",
    "              df['MatchedHit_Y[%i]' % i1] - df['MatchedHit_Y[%i]' % i0],\\\n",
    "              df['MatchedHit_Z[%i]' % i1] - df['MatchedHit_Z[%i]' % i0])\n",
    "\n",
    "        x2 = (df['MatchedHit_X[%i]' % i2] - df['MatchedHit_X[%i]' % i1],\\\n",
    "              df['MatchedHit_Y[%i]' % i2] - df['MatchedHit_Y[%i]' % i1],\\\n",
    "              df['MatchedHit_Z[%i]' % i2] - df['MatchedHit_Z[%i]' % i1])\n",
    "\n",
    "        scalar12 = np.sum([i*j for i,j in zip(x1, x2)], axis = 0)\n",
    "        scalar11 = np.sum([i**2 for i in x1], axis = 0)\n",
    "        scalar22 = np.sum([i**2 for i in x2], axis = 0)\n",
    "\n",
    "        return np.arccos(scalar12/np.sqrt(scalar11*scalar22))*180/np.pi\n",
    "    return calculate_angle_ind\n",
    "\n",
    "    \n",
    "\n",
    "def get_column_lengths_trajectory(data):\n",
    "    \"\"\"\n",
    "      Длинна траектории, чтобы это не значило\n",
    "    \"\"\"\n",
    "    lengths = np.ones(len(data)) * 4\n",
    "    for i in range(3, -1, -1):\n",
    "        indices = np.where(data['MatchedHit_Z[{}]'.format(i)] < -9800)[0]\n",
    "        lengths[indices] = i \n",
    "    return lengths\n",
    "\n",
    "def calc_diff_btw_trajectory_and_extr(data):\n",
    "    diff_columns = {}\n",
    "    res = np.zeros(len(data))\n",
    "    for i in range(4):\n",
    "        diff_columns[i] = {}\n",
    "        for l in ['X', 'Y']:\n",
    "            diff_columns[i][l] = (data[\"MatchedHit_%s[%i]\"%(l, i)] - data[\"Lextra_%s[%i]\"%(l, i)])**2\n",
    "        res += np.sqrt(diff_columns[i]['X'] + diff_columns[i]['Y'])\n",
    "    return res\n",
    "\n",
    "# FEATURES"
   ]
  },
  {
   "cell_type": "code",
   "execution_count": 8,
   "metadata": {},
   "outputs": [],
   "source": [
    "from sklearn.base import TransformerMixin, ClassifierMixin\n",
    "class FeatureTransformer(TransformerMixin):\n",
    "    SIMPLE_FEATURES = ['ncl[0]', 'ncl[1]', 'ncl[2]', 'ncl[3]', 'avg_cs[0]',\n",
    "                       'avg_cs[1]', 'avg_cs[2]', 'avg_cs[3]', 'ndof', 'MatchedHit_TYPE[0]',\n",
    "                       'MatchedHit_TYPE[1]', 'MatchedHit_TYPE[2]', 'MatchedHit_TYPE[3]',\n",
    "                       'MatchedHit_X[0]', 'MatchedHit_X[1]', 'MatchedHit_X[2]',\n",
    "                       'MatchedHit_X[3]', 'MatchedHit_Y[0]', 'MatchedHit_Y[1]',\n",
    "                       'MatchedHit_Y[2]', 'MatchedHit_Y[3]', 'MatchedHit_Z[0]',\n",
    "                       'MatchedHit_Z[1]', 'MatchedHit_Z[2]', 'MatchedHit_Z[3]',\n",
    "                       'MatchedHit_DX[0]', 'MatchedHit_DX[1]', 'MatchedHit_DX[2]',\n",
    "                       'MatchedHit_DX[3]', 'MatchedHit_DY[0]', 'MatchedHit_DY[1]',\n",
    "                       'MatchedHit_DY[2]', 'MatchedHit_DY[3]', 'MatchedHit_DZ[0]',\n",
    "                       'MatchedHit_DZ[1]', 'MatchedHit_DZ[2]', 'MatchedHit_DZ[3]',\n",
    "                       'MatchedHit_T[0]', 'MatchedHit_T[1]', 'MatchedHit_T[2]',\n",
    "                       'MatchedHit_T[3]', 'MatchedHit_DT[0]', 'MatchedHit_DT[1]',\n",
    "                       'MatchedHit_DT[2]', 'MatchedHit_DT[3]', 'Lextra_X[0]', 'Lextra_X[1]',\n",
    "                       'Lextra_X[2]', 'Lextra_X[3]', 'Lextra_Y[0]', 'Lextra_Y[1]',\n",
    "                       'Lextra_Y[2]', 'Lextra_Y[3]', 'NShared', 'Mextra_DX2[0]',\n",
    "                       'Mextra_DX2[1]', 'Mextra_DX2[2]', 'Mextra_DX2[3]', 'Mextra_DY2[0]',\n",
    "                       'Mextra_DY2[1]', 'Mextra_DY2[2]', 'Mextra_DY2[3]', 'FOI_hits_N', 'PT', 'P',\n",
    "                       'weight']\n",
    "    \n",
    "    CREATE_NEW_FEATURES = True\n",
    "    \n",
    "    def create_new_features(self, data):\n",
    "        for name, funct in zip(['angle0', 'angle1', 'traj_len', 'deff_exp_ext'],\n",
    "                              [\n",
    "#                                calculate_angle, \n",
    "                               calc_ind_closure(0),\n",
    "                               calc_ind_closure(1),\n",
    "                               get_column_lengths_trajectory, \n",
    "                               calc_diff_btw_trajectory_and_extr]):\n",
    "            data[name] = funct(data)\n",
    "            if not name in self.SIMPLE_FEATURES:\n",
    "                self.SIMPLE_FEATURES.append(name)\n",
    "        return data\n",
    "    \n",
    "    def base_transform(self, data, create_new_features):\n",
    "        if create_new_features:\n",
    "            data = self.create_new_features(data)\n",
    "            \n",
    "        return data[self.SIMPLE_FEATURES]\n",
    "    \n",
    "    def transform(self, data, y = None):       \n",
    "        if self.CREATE_NEW_FEATURES:\n",
    "            data = self.create_new_features(data)\n",
    "            \n",
    "        features =  self.SIMPLE_FEATURES.copy()\n",
    "        features.remove('weight')\n",
    "        return data[features]\n",
    "    \n",
    "    def fit_transform(self, data, y = None):\n",
    "        if self.CREATE_NEW_FEATURES:\n",
    "            data = self.create_new_features(data)\n",
    "            \n",
    "        return data[self.SIMPLE_FEATURES]\n",
    "    \n",
    "\n",
    "class ModelClass(ClassifierMixin):\n",
    "    def fit(self, X, y, sample_weights = None):\n",
    "        self.estimator = XGBClassifier(n_jobs=20)\n",
    "        features = list(X.keys())\n",
    "        if 'weight' in features:\n",
    "            print('fitting, using weight')\n",
    "            features.remove('weight')\n",
    "            self.estimator.fit(X[features].get_values(), y.get_values(), sample_weight=X['weight'].get_values())\n",
    "        else:\n",
    "            print('fitting with out weight')\n",
    "            self.estimator.fit(X.get_values(), y.get_values())\n",
    "        return self\n",
    "    \n",
    "    def predict(self, X):\n",
    "        features = list(X.keys())\n",
    "        if 'weight' in features:\n",
    "            features.remove('weight')\n",
    "            return self.estimator.predict(X[features].get_values())\n",
    "        else:\n",
    "            return self.estimator.predict(X.get_values())\n",
    "    \n",
    "    def predict_proba(self, X):\n",
    "        features = list(X.keys())\n",
    "        if 'weight' in features:\n",
    "            features.remove('weight')\n",
    "            return self.estimator.predict_proba(X[features].get_values())\n",
    "        else:\n",
    "            return self.estimator.predict_proba(X.get_values())\n",
    "\n",
    "\n",
    "clf = ModelClass()\n",
    "transformer = FeatureTransformer()\n",
    "\n",
    "model = Pipeline([('transformer', transformer),\n",
    "                  ('clf', clf)])"
   ]
  },
  {
   "cell_type": "code",
   "execution_count": null,
   "metadata": {},
   "outputs": [],
   "source": []
  },
  {
   "cell_type": "code",
   "execution_count": 9,
   "metadata": {},
   "outputs": [
    {
     "data": {
      "text/plain": [
       "{'kinWeight', 'label', 'particle_type', 'sWeight', 'weight'}"
      ]
     },
     "execution_count": 9,
     "metadata": {},
     "output_type": "execute_result"
    }
   ],
   "source": [
    "set(df_train.keys())-set(df_test.keys())"
   ]
  },
  {
   "cell_type": "code",
   "execution_count": 10,
   "metadata": {},
   "outputs": [
    {
     "data": {
      "text/plain": [
       "True"
      ]
     },
     "execution_count": 10,
     "metadata": {},
     "output_type": "execute_result"
    }
   ],
   "source": [
    "'weight' in df_train_part.keys()"
   ]
  },
  {
   "cell_type": "code",
   "execution_count": 11,
   "metadata": {},
   "outputs": [],
   "source": [
    "# df_train"
   ]
  },
  {
   "cell_type": "code",
   "execution_count": 12,
   "metadata": {},
   "outputs": [],
   "source": [
    "features = list(df_train.keys())\n",
    "features.remove('label')\n",
    "# features.remove('weight')\n",
    "features.remove('particle_type')\n",
    "target = ['label']"
   ]
  },
  {
   "cell_type": "code",
   "execution_count": 13,
   "metadata": {},
   "outputs": [
    {
     "data": {
      "text/plain": [
       "True"
      ]
     },
     "execution_count": 13,
     "metadata": {},
     "output_type": "execute_result"
    }
   ],
   "source": [
    "'weight' in features"
   ]
  },
  {
   "cell_type": "code",
   "execution_count": 14,
   "metadata": {},
   "outputs": [
    {
     "name": "stderr",
     "output_type": "stream",
     "text": [
      "/anaconda3/lib/python3.6/site-packages/ipykernel_launcher.py:33: SettingWithCopyWarning: \n",
      "A value is trying to be set on a copy of a slice from a DataFrame.\n",
      "Try using .loc[row_indexer,col_indexer] = value instead\n",
      "\n",
      "See the caveats in the documentation: http://pandas.pydata.org/pandas-docs/stable/indexing.html#indexing-view-versus-copy\n"
     ]
    },
    {
     "name": "stdout",
     "output_type": "stream",
     "text": [
      "fitting, using weight\n"
     ]
    },
    {
     "name": "stderr",
     "output_type": "stream",
     "text": [
      "/anaconda3/lib/python3.6/site-packages/sklearn/preprocessing/label.py:95: DataConversionWarning: A column-vector y was passed when a 1d array was expected. Please change the shape of y to (n_samples, ), for example using ravel().\n",
      "  y = column_or_1d(y, warn=True)\n",
      "/anaconda3/lib/python3.6/site-packages/sklearn/preprocessing/label.py:128: DataConversionWarning: A column-vector y was passed when a 1d array was expected. Please change the shape of y to (n_samples, ), for example using ravel().\n",
      "  y = column_or_1d(y, warn=True)\n"
     ]
    },
    {
     "name": "stdout",
     "output_type": "stream",
     "text": [
      "CPU times: user 53min 22s, sys: 59.7 s, total: 54min 22s\n",
      "Wall time: 3min 13s\n"
     ]
    },
    {
     "data": {
      "text/plain": [
       "Pipeline(memory=None,\n",
       "     steps=[('transformer', <__main__.FeatureTransformer object at 0x7fe451f74c88>), ('clf', <__main__.ModelClass object at 0x7fe451f74d30>)])"
      ]
     },
     "execution_count": 14,
     "metadata": {},
     "output_type": "execute_result"
    }
   ],
   "source": [
    "%%time\n",
    "model.fit(df_train_part[features], df_train_part[target])"
   ]
  },
  {
   "cell_type": "code",
   "execution_count": 15,
   "metadata": {},
   "outputs": [
    {
     "name": "stderr",
     "output_type": "stream",
     "text": [
      "/anaconda3/lib/python3.6/site-packages/ipykernel_launcher.py:33: SettingWithCopyWarning: \n",
      "A value is trying to be set on a copy of a slice from a DataFrame.\n",
      "Try using .loc[row_indexer,col_indexer] = value instead\n",
      "\n",
      "See the caveats in the documentation: http://pandas.pydata.org/pandas-docs/stable/indexing.html#indexing-view-versus-copy\n",
      "/anaconda3/lib/python3.6/site-packages/sklearn/preprocessing/label.py:151: DeprecationWarning: The truth value of an empty array is ambiguous. Returning False, but in future this will result in an error. Use `array.size > 0` to check that an array is not empty.\n",
      "  if diff:\n"
     ]
    }
   ],
   "source": [
    "y_predict_proba = model.predict_proba(df_validation[features])[:, 1]\n",
    "y_predict = model.predict(df_validation[features])"
   ]
  },
  {
   "cell_type": "code",
   "execution_count": 16,
   "metadata": {},
   "outputs": [
    {
     "name": "stdout",
     "output_type": "stream",
     "text": [
      "             precision    recall  f1-score   support\n",
      "\n",
      "          0       0.72      0.19      0.30    408686\n",
      "          1       0.74      0.97      0.84    952741\n",
      "\n",
      "avg / total       0.73      0.73      0.67   1361427\n",
      "\n",
      "rejection90:\t 0.7001187352573887\n"
     ]
    }
   ],
   "source": [
    "from sklearn.metrics import classification_report\n",
    "print(classification_report(y_predict, df_validation.label.values))\n",
    "print('rejection90:\\t', str(scoring.rejection90(df_validation.label.values, \n",
    "                                                y_predict_proba, \n",
    "                                                sample_weight=df_validation.weight.values)))"
   ]
  },
  {
   "cell_type": "code",
   "execution_count": 17,
   "metadata": {},
   "outputs": [],
   "source": [
    "# model.steps[0][1].SIMPLE_FEATURES.remove('weight')\n",
    "predictions = model.predict_proba(df_test)[:, 1]\n",
    "pd.DataFrame(data={\"prediction\": predictions}, index=df_test.index).to_csv(\n",
    "    \"/nis/idao/results/xgb_2_angles__new_features.csv\", index_label='id')"
   ]
  },
  {
   "cell_type": "markdown",
   "metadata": {},
   "source": [
    "#### RESULTS:\n",
    "    ====[  2  ]=============================================================\n",
    "    all numeric features + 4 features + xgb with our metric  [03.02.18 21:39]\n",
    "\n",
    "    precision    recall  f1-score   support\n",
    "\n",
    "              0       0.72      0.19      0.30    408686\n",
    "              1       0.74      0.97      0.84    952741\n",
    "\n",
    "    avg / total       0.73      0.73      0.67   1361427\n",
    "\n",
    "    rejection90:\t 0.7001187352573887\n",
    "    "
   ]
  },
  {
   "cell_type": "markdown",
   "metadata": {},
   "source": [
    "## FEATURE IMPORTANCE"
   ]
  },
  {
   "cell_type": "code",
   "execution_count": 18,
   "metadata": {},
   "outputs": [
    {
     "data": {
      "text/plain": [
       "Index(['id', 'ncl[0]', 'ncl[1]', 'ncl[2]', 'ncl[3]', 'avg_cs[0]', 'avg_cs[1]',\n",
       "       'avg_cs[2]', 'avg_cs[3]', 'ndof', 'MatchedHit_TYPE[0]',\n",
       "       'MatchedHit_TYPE[1]', 'MatchedHit_TYPE[2]', 'MatchedHit_TYPE[3]',\n",
       "       'MatchedHit_X[0]', 'MatchedHit_X[1]', 'MatchedHit_X[2]',\n",
       "       'MatchedHit_X[3]', 'MatchedHit_Y[0]', 'MatchedHit_Y[1]',\n",
       "       'MatchedHit_Y[2]', 'MatchedHit_Y[3]', 'MatchedHit_Z[0]',\n",
       "       'MatchedHit_Z[1]', 'MatchedHit_Z[2]', 'MatchedHit_Z[3]',\n",
       "       'MatchedHit_DX[0]', 'MatchedHit_DX[1]', 'MatchedHit_DX[2]',\n",
       "       'MatchedHit_DX[3]', 'MatchedHit_DY[0]', 'MatchedHit_DY[1]',\n",
       "       'MatchedHit_DY[2]', 'MatchedHit_DY[3]', 'MatchedHit_DZ[0]',\n",
       "       'MatchedHit_DZ[1]', 'MatchedHit_DZ[2]', 'MatchedHit_DZ[3]',\n",
       "       'MatchedHit_T[0]', 'MatchedHit_T[1]', 'MatchedHit_T[2]',\n",
       "       'MatchedHit_T[3]', 'MatchedHit_DT[0]', 'MatchedHit_DT[1]',\n",
       "       'MatchedHit_DT[2]', 'MatchedHit_DT[3]', 'Lextra_X[0]', 'Lextra_X[1]',\n",
       "       'Lextra_X[2]', 'Lextra_X[3]', 'Lextra_Y[0]', 'Lextra_Y[1]',\n",
       "       'Lextra_Y[2]', 'Lextra_Y[3]', 'NShared', 'Mextra_DX2[0]',\n",
       "       'Mextra_DX2[1]', 'Mextra_DX2[2]', 'Mextra_DX2[3]', 'Mextra_DY2[0]',\n",
       "       'Mextra_DY2[1]', 'Mextra_DY2[2]', 'Mextra_DY2[3]', 'FOI_hits_N',\n",
       "       'FOI_hits_X', 'FOI_hits_Y', 'FOI_hits_Z', 'FOI_hits_DX', 'FOI_hits_DY',\n",
       "       'FOI_hits_DZ', 'FOI_hits_T', 'FOI_hits_DT', 'FOI_hits_S', 'PT', 'P',\n",
       "       'sWeight', 'particle_type', 'label', 'kinWeight', 'weight'],\n",
       "      dtype='object')"
      ]
     },
     "execution_count": 18,
     "metadata": {},
     "output_type": "execute_result"
    }
   ],
   "source": [
    "df_train.keys()"
   ]
  },
  {
   "cell_type": "code",
   "execution_count": 19,
   "metadata": {},
   "outputs": [],
   "source": [
    "import pickle\n",
    "pickle.dump(model, open('../results/model4feature_2_angles.pickle', 'wb'))"
   ]
  },
  {
   "cell_type": "code",
   "execution_count": 20,
   "metadata": {},
   "outputs": [
    {
     "data": {
      "image/png": "[encoded data removed]",
      "text/plain": [
       "<matplotlib.figure.Figure at 0x7fe1e923fda0>"
      ]
     },
     "metadata": {},
     "output_type": "display_data"
    }
   ],
   "source": [
    "from collections import OrderedDict\n",
    "from matplotlib import pyplot as plt\n",
    "%matplotlib inline\n",
    "feature_dict = {k:v for k,v in zip(model.steps[0][1].SIMPLE_FEATURES, \n",
    "                                   model.steps[1][1].estimator.feature_importances_)}\n",
    "feature_dict = OrderedDict(sorted(feature_dict.items(), key = lambda x:x[1]))\n",
    "\n",
    "plt.figure(figsize = (40, 20))\n",
    "plt.barh(list(range(len(feature_dict))), list(feature_dict.values()))\n",
    "plt.yticks(range(len(feature_dict)), list(feature_dict.keys()))\n",
    "plt.show()"
   ]
  },
  {
   "cell_type": "code",
   "execution_count": 21,
   "metadata": {},
   "outputs": [
    {
     "data": {
      "text/plain": [
       "79"
      ]
     },
     "execution_count": 21,
     "metadata": {},
     "output_type": "execute_result"
    }
   ],
   "source": [
    "len(df_test.keys())"
   ]
  },
  {
   "cell_type": "code",
   "execution_count": 22,
   "metadata": {},
   "outputs": [
    {
     "data": {
      "text/plain": [
       "70"
      ]
     },
     "execution_count": 22,
     "metadata": {},
     "output_type": "execute_result"
    }
   ],
   "source": [
    "len(model.steps[0][1].SIMPLE_FEATURES)"
   ]
  },
  {
   "cell_type": "code",
   "execution_count": null,
   "metadata": {},
   "outputs": [],
   "source": []
  }
 ],
 "metadata": {
  "kernelspec": {
   "display_name": "Python 3",
   "language": "python",
   "name": "python3"
  },
  "language_info": {
   "codemirror_mode": {
    "name": "ipython",
    "version": 3
   },
   "file_extension": ".py",
   "mimetype": "text/x-python",
   "name": "python",
   "nbconvert_exporter": "python",
   "pygments_lexer": "ipython3",
   "version": "3.6.4"
  }
 },
 "nbformat": 4,
 "nbformat_minor": 2
}
